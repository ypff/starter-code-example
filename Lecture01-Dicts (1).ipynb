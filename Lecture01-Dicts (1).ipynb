{
  "nbformat": 4,
  "nbformat_minor": 0,
  "metadata": {
    "celltoolbar": "Slideshow",
    "kernelspec": {
      "display_name": "Python 3",
      "language": "python",
      "name": "python3"
    },
    "language_info": {
      "codemirror_mode": {
        "name": "ipython",
        "version": 3
      },
      "file_extension": ".py",
      "mimetype": "text/x-python",
      "name": "python",
      "nbconvert_exporter": "python",
      "pygments_lexer": "ipython3",
      "version": "3.7.5"
    },
    "colab": {
      "name": "Lecture01-Dicts.ipynb",
      "provenance": []
    }
  },
  "cells": [
    {
      "cell_type": "markdown",
      "metadata": {
        "id": "lziPNFeyPtVd",
        "colab_type": "text"
      },
      "source": [
        "[![Colab](https://colab.research.google.com/assets/colab-badge.svg)](https://colab.research.google.com/github/ypff/starter-code-example/blob/master/Lecture01-Dicts%20(1).ipynb#scrollTo=lziPNFeyPtVd)"
      ]
    },
    {
      "cell_type": "markdown",
      "metadata": {
        "id": "t0MrVgcOZbBQ",
        "colab_type": "text"
      },
      "source": [
        "![DSB Logo](https://github.com/ypff/starter-code-example/blob/master/img/Dolan.jpg?raw=1)\n",
        "# Python Data Types: Dictionaries\n",
        "## PY4E Chapter 9\n",
        "### How data are stored and processed in Python"
      ]
    },
    {
      "cell_type": "markdown",
      "metadata": {
        "id": "xadzwkI4ZbBv",
        "colab_type": "text"
      },
      "source": [
        "# Dicts in General\n",
        "\n",
        "- Dicts are somewhat similar to lists\n",
        "    - in lists, _positions_ of elements are marked by _integers_\n",
        "    - in dicts, _positions_ of elements are marked by (_alsmost_) any data type\n",
        "    \n",
        "- A dictionary is a mapping between a set of indices (_keys_) and a set of _values_\n",
        "    - each key in a dict is mapped to a value\n",
        "        - this type of mapping is called a _key-value pair_ or an _item_\n",
        "        \n",
        "```\n",
        "dict -> {key : value}\n",
        "```"
      ]
    },
    {
      "cell_type": "code",
      "metadata": {
        "id": "HV5tGg2UZbB0",
        "colab_type": "code",
        "outputId": "035afbff-3e43-4680-ee01-d1e4c3a06587",
        "colab": {
          "base_uri": "https://localhost:8080/",
          "height": 34
        }
      },
      "source": [
        "sample_dict = dict()\n",
        "# This will print out an empty dict `{}`\n",
        "print(sample_dict)"
      ],
      "execution_count": 1,
      "outputs": [
        {
          "output_type": "stream",
          "text": [
            "{}\n"
          ],
          "name": "stdout"
        }
      ]
    },
    {
      "cell_type": "code",
      "metadata": {
        "id": "2fV-XTeFZbFR",
        "colab_type": "code",
        "outputId": "961dac9a-27d7-4507-cc33-d141d40067ff",
        "colab": {
          "base_uri": "https://localhost:8080/",
          "height": 34
        }
      },
      "source": [
        "# another way of defining a dict\n",
        "sample_dict2 = {}\n",
        "print(sample_dict2)"
      ],
      "execution_count": 2,
      "outputs": [
        {
          "output_type": "stream",
          "text": [
            "{}\n"
          ],
          "name": "stdout"
        }
      ]
    },
    {
      "cell_type": "code",
      "metadata": {
        "id": "JVjjfY5pZbG1",
        "colab_type": "code",
        "outputId": "7db13332-f6b3-4857-b3ba-67782cb0e261",
        "colab": {
          "base_uri": "https://localhost:8080/",
          "height": 34
        }
      },
      "source": [
        "# to update/add item into a dict\n",
        "# in following item, `'one'` is the key, and `1` is the value\n",
        "sample_dict['one'] = 1\n",
        "print(sample_dict)"
      ],
      "execution_count": 3,
      "outputs": [
        {
          "output_type": "stream",
          "text": [
            "{'one': 1}\n"
          ],
          "name": "stdout"
        }
      ]
    },
    {
      "cell_type": "code",
      "metadata": {
        "id": "eBlU7rY_ZbHj",
        "colab_type": "code",
        "outputId": "f59ceb59-8ddd-462e-f2d7-460961fcb5ae",
        "colab": {
          "base_uri": "https://localhost:8080/",
          "height": 34
        }
      },
      "source": [
        "# You can define a dictionary with multiple items\n",
        "sample_dict2 = {'one': 1, 'two': 2, 'three': 3}\n",
        "print(sample_dict2)"
      ],
      "execution_count": 0,
      "outputs": [
        {
          "output_type": "stream",
          "text": [
            "{'one': 1, 'two': 2, 'three': 3}\n"
          ],
          "name": "stdout"
        }
      ]
    },
    {
      "cell_type": "code",
      "metadata": {
        "id": "e3wprp-aZbI7",
        "colab_type": "code",
        "outputId": "8f154313-7136-464b-df30-3c6742069d18",
        "colab": {
          "base_uri": "https://localhost:8080/",
          "height": 34
        }
      },
      "source": [
        "# you can always access the value in a dict by using its key\n",
        "sample_dict2['one']"
      ],
      "execution_count": 0,
      "outputs": [
        {
          "output_type": "execute_result",
          "data": {
            "text/plain": [
              "1"
            ]
          },
          "metadata": {
            "tags": []
          },
          "execution_count": 6
        }
      ]
    },
    {
      "cell_type": "code",
      "metadata": {
        "id": "q9yQLQU8ZbJP",
        "colab_type": "code",
        "outputId": "f4fbc4e5-97a0-49df-d417-b7fbaa68408b",
        "colab": {
          "base_uri": "https://localhost:8080/",
          "height": 164
        }
      },
      "source": [
        "# however, if the key is not in the dict, you will not get the results\n",
        "sample_dict2['four']"
      ],
      "execution_count": 0,
      "outputs": [
        {
          "output_type": "error",
          "ename": "KeyError",
          "evalue": "ignored",
          "traceback": [
            "\u001b[0;31m---------------------------------------------------------------------------\u001b[0m",
            "\u001b[0;31mKeyError\u001b[0m                                  Traceback (most recent call last)",
            "\u001b[0;32m<ipython-input-7-c6e98d82519a>\u001b[0m in \u001b[0;36m<module>\u001b[0;34m()\u001b[0m\n\u001b[0;32m----> 1\u001b[0;31m \u001b[0msample_dict2\u001b[0m\u001b[0;34m[\u001b[0m\u001b[0;34m'four'\u001b[0m\u001b[0;34m]\u001b[0m\u001b[0;34m\u001b[0m\u001b[0;34m\u001b[0m\u001b[0m\n\u001b[0m",
            "\u001b[0;31mKeyError\u001b[0m: 'four'"
          ]
        }
      ]
    },
    {
      "cell_type": "code",
      "metadata": {
        "id": "BLPoFho0ZbJ0",
        "colab_type": "code",
        "outputId": "afb489f9-896c-4912-e518-d050ec901cef",
        "colab": {
          "base_uri": "https://localhost:8080/",
          "height": 164
        }
      },
      "source": [
        "# also, the reverse-lookup (using value to look up key) does not work\n",
        "sample_dict2[1]"
      ],
      "execution_count": 0,
      "outputs": [
        {
          "output_type": "error",
          "ename": "KeyError",
          "evalue": "ignored",
          "traceback": [
            "\u001b[0;31m---------------------------------------------------------------------------\u001b[0m",
            "\u001b[0;31mKeyError\u001b[0m                                  Traceback (most recent call last)",
            "\u001b[0;32m<ipython-input-8-fb14bb924bdf>\u001b[0m in \u001b[0;36m<module>\u001b[0;34m()\u001b[0m\n\u001b[0;32m----> 1\u001b[0;31m \u001b[0msample_dict2\u001b[0m\u001b[0;34m[\u001b[0m\u001b[0;36m1\u001b[0m\u001b[0;34m]\u001b[0m\u001b[0;34m\u001b[0m\u001b[0;34m\u001b[0m\u001b[0m\n\u001b[0m",
            "\u001b[0;31mKeyError\u001b[0m: 1"
          ]
        }
      ]
    },
    {
      "cell_type": "code",
      "metadata": {
        "id": "xqHn-93KZbLc",
        "colab_type": "code",
        "outputId": "9916d156-6411-4d70-9d18-551852f3d839",
        "colab": {
          "base_uri": "https://localhost:8080/",
          "height": 34
        }
      },
      "source": [
        "# you can find the number of key-value pairs using `len()`\n",
        "len(sample_dict2) # 3"
      ],
      "execution_count": 0,
      "outputs": [
        {
          "output_type": "execute_result",
          "data": {
            "text/plain": [
              "3"
            ]
          },
          "metadata": {
            "tags": []
          },
          "execution_count": 9
        }
      ]
    },
    {
      "cell_type": "code",
      "metadata": {
        "id": "EQd1FVkZZbL5",
        "colab_type": "code",
        "outputId": "39771665-69e9-4fb0-cf88-856de93a5e11",
        "colab": {
          "base_uri": "https://localhost:8080/",
          "height": 34
        }
      },
      "source": [
        "# of course an empty dict will return a zero\n",
        "len({})"
      ],
      "execution_count": 0,
      "outputs": [
        {
          "output_type": "execute_result",
          "data": {
            "text/plain": [
              "0"
            ]
          },
          "metadata": {
            "tags": []
          },
          "execution_count": 10
        }
      ]
    },
    {
      "cell_type": "code",
      "metadata": {
        "id": "UCofMJocZbMA",
        "colab_type": "code",
        "outputId": "c107ae5d-74f8-40a1-f7c9-d510528f0b5b",
        "colab": {
          "base_uri": "https://localhost:8080/",
          "height": 34
        }
      },
      "source": [
        "# you can use the `in` operator \n",
        "# however this works on keys but not values\n",
        "'one' in sample_dict2"
      ],
      "execution_count": 0,
      "outputs": [
        {
          "output_type": "execute_result",
          "data": {
            "text/plain": [
              "True"
            ]
          },
          "metadata": {
            "tags": []
          },
          "execution_count": 11
        }
      ]
    },
    {
      "cell_type": "code",
      "metadata": {
        "id": "MyYgDBLXZbMf",
        "colab_type": "code",
        "outputId": "d5bbbe10-c505-4b95-8cca-aba1ef1da176",
        "colab": {
          "base_uri": "https://localhost:8080/",
          "height": 34
        }
      },
      "source": [
        "# but this will not work on keys\n",
        "1 in sample_dict2"
      ],
      "execution_count": 0,
      "outputs": [
        {
          "output_type": "execute_result",
          "data": {
            "text/plain": [
              "False"
            ]
          },
          "metadata": {
            "tags": []
          },
          "execution_count": 12
        }
      ]
    },
    {
      "cell_type": "code",
      "metadata": {
        "id": "J8M4plEVZbM6",
        "colab_type": "code",
        "outputId": "4acf6f78-7548-427b-fdab-9ccb844a1c9c",
        "colab": {
          "base_uri": "https://localhost:8080/",
          "height": 34
        }
      },
      "source": [
        "# but you can use the `.values()` method to retrieve the values\n",
        "vals = sample_dict2.values()\n",
        "1 in vals"
      ],
      "execution_count": 0,
      "outputs": [
        {
          "output_type": "execute_result",
          "data": {
            "text/plain": [
              "True"
            ]
          },
          "metadata": {
            "tags": []
          },
          "execution_count": 13
        }
      ]
    },
    {
      "cell_type": "markdown",
      "metadata": {
        "id": "yWAw8pBYZbNI",
        "colab_type": "text"
      },
      "source": [
        "# Dictionary as a Set of Counters\n",
        "\n",
        "- Suppose you are given a bunch of text, and count how many times each letter appears. You can do it as:\n",
        "    - You could create 26 variables, one for each letter of the alphabet. Then you could traverse the string and, for each character, increment the corresponding counter, probably using a chained conditional.\n",
        "    - You could create a list with 26 elements. Then you could convert each character to a number (using the built-in function ord), use the number as an index into the list, and increment the appropriate counter.\n",
        "    - You could create a dictionary with characters as keys and counters as the corresponding values. The first time you see a character, you would add an item to the dictionary. After that you would increment the value of an existing item.\n",
        "        - here you can only reserve space for letters do appear, but not the letters that do not"
      ]
    },
    {
      "cell_type": "code",
      "metadata": {
        "id": "ohwYzixxZbNK",
        "colab_type": "code",
        "outputId": "498879dd-ad6e-43bf-9234-bdfbf03ed588",
        "colab": {
          "base_uri": "https://localhost:8080/",
          "height": 34
        }
      },
      "source": [
        "word = 'brontosaurus' \n",
        "d = dict()\n",
        "for c in word:\n",
        "    if c not in d: \n",
        "        d[c] = 1\n",
        "    else:\n",
        "        d[c] = d[c] + 1\n",
        "print(d)"
      ],
      "execution_count": 0,
      "outputs": [
        {
          "output_type": "stream",
          "text": [
            "{'b': 1, 'r': 2, 'o': 2, 'n': 1, 't': 1, 's': 2, 'a': 1, 'u': 2}\n"
          ],
          "name": "stdout"
        }
      ]
    },
    {
      "cell_type": "code",
      "metadata": {
        "id": "U4ROYGXQZbNQ",
        "colab_type": "code",
        "outputId": "e07db27a-279f-43dc-e787-b040d3ed11e9",
        "colab": {
          "base_uri": "https://localhost:8080/",
          "height": 51
        }
      },
      "source": [
        "# you can use the `.get()` method to retrieve item from a dict\n",
        "counts = { 'chuck' : 1 , 'annie' : 42, 'jan': 100}\n",
        "print(counts.get('jan', 0)) # 100\n",
        "print(counts.get('tim', 0)) # 0"
      ],
      "execution_count": 0,
      "outputs": [
        {
          "output_type": "stream",
          "text": [
            "100\n",
            "0\n"
          ],
          "name": "stdout"
        }
      ]
    },
    {
      "cell_type": "code",
      "metadata": {
        "id": "s6nmfFqFZbN5",
        "colab_type": "code",
        "outputId": "d66eff7f-749f-4da0-e993-c69cfe726d1b",
        "colab": {
          "base_uri": "https://localhost:8080/",
          "height": 34
        }
      },
      "source": [
        "# So with this method, we can rewrite the counter code as below\n",
        "# this is prederred method because it is optimal\n",
        "d = dict()\n",
        "for c in word:\n",
        "    d[c] = d.get(c,0) + 1\n",
        "print(d)"
      ],
      "execution_count": 0,
      "outputs": [
        {
          "output_type": "stream",
          "text": [
            "{'b': 1, 'r': 2, 'o': 2, 'n': 1, 't': 1, 's': 2, 'a': 1, 'u': 2}\n"
          ],
          "name": "stdout"
        }
      ]
    },
    {
      "cell_type": "markdown",
      "metadata": {
        "id": "z3vxws2gZbOF",
        "colab_type": "text"
      },
      "source": [
        "# Traversing the Dictionary\n",
        "\n",
        "- Like lists and strings, dicts are collections/sequences, so that we can use loop to traverse them\n",
        "    - you can go through the keys\n",
        "    - or you can go through key-value pairs (__preferred method__)\n",
        "        - in Python, data like _key-value pairs_ are called _tuples_ (see chapter 10 in PY4E) for more details"
      ]
    },
    {
      "cell_type": "code",
      "metadata": {
        "id": "mGvGqZiMZbOG",
        "colab_type": "code",
        "outputId": "400ad4c9-7074-4506-a574-20b07990d339",
        "colab": {
          "base_uri": "https://localhost:8080/",
          "height": 153
        }
      },
      "source": [
        "# iterate through using keys\n",
        "for key in d: # d is the counter dict we created\n",
        "    print(key, d[key])"
      ],
      "execution_count": 0,
      "outputs": [
        {
          "output_type": "stream",
          "text": [
            "b 1\n",
            "r 2\n",
            "o 2\n",
            "n 1\n",
            "t 1\n",
            "s 2\n",
            "a 1\n",
            "u 2\n"
          ],
          "name": "stdout"
        }
      ]
    },
    {
      "cell_type": "code",
      "metadata": {
        "id": "4wh_i39-ZbOM",
        "colab_type": "code",
        "outputId": "a373aae7-54b7-4cde-928b-2fbb4838911a",
        "colab": {
          "base_uri": "https://localhost:8080/",
          "height": 153
        }
      },
      "source": [
        "# iterate through dictionary using key-value pairs\n",
        "for k,v in d.items(): # k-key, v-value\n",
        "    print(k,v)"
      ],
      "execution_count": 0,
      "outputs": [
        {
          "output_type": "stream",
          "text": [
            "b 1\n",
            "r 2\n",
            "o 2\n",
            "n 1\n",
            "t 1\n",
            "s 2\n",
            "a 1\n",
            "u 2\n"
          ],
          "name": "stdout"
        }
      ]
    },
    {
      "cell_type": "code",
      "metadata": {
        "id": "N4HgUN2vZbO_",
        "colab_type": "code",
        "outputId": "6c1deba0-e707-462b-cfdb-7f454cbccb8a",
        "colab": {
          "base_uri": "https://localhost:8080/",
          "height": 85
        }
      },
      "source": [
        "# you can always add conditions to the for loops\n",
        "# when iteratre through a dict\n",
        "# for instance, we want the letters appear more than once\n",
        "# in the word 'brontosaurus' \n",
        "for k,v in d.items(): # k-key, v-value\n",
        "    if v > 1:\n",
        "        print(k,v)"
      ],
      "execution_count": 0,
      "outputs": [
        {
          "output_type": "stream",
          "text": [
            "r 2\n",
            "o 2\n",
            "s 2\n",
            "u 2\n"
          ],
          "name": "stdout"
        }
      ]
    },
    {
      "cell_type": "markdown",
      "metadata": {
        "id": "WXrJD6uEZbPh",
        "colab_type": "text"
      },
      "source": [
        "# Sorting the Dictionaries\n",
        "\n",
        "- Unlike lists, dictionaries cannot be directly sorted, but we can sort the _keys_ and _values_\n",
        "    - _keys_ and _values_ are essentially lists, or can be converted to lists\n",
        "        - according to field experiences, sorting _values_ is more useful than sorting _keys_"
      ]
    },
    {
      "cell_type": "code",
      "metadata": {
        "id": "rmqJK-J4ZbPv",
        "colab_type": "code",
        "outputId": "1c63aeb0-509d-4d46-e2b8-bbd99035ac9e",
        "colab": {
          "base_uri": "https://localhost:8080/",
          "height": 153
        }
      },
      "source": [
        "# sorting by keys is easy\n",
        "\n",
        "# extract keys as a list\n",
        "key_lst = list(d.keys())\n",
        "\n",
        "# sort a list\n",
        "key_lst.sort()\n",
        "\n",
        "# traverse through the sorted lisst\n",
        "for key in key_lst:\n",
        "    print(key, d[key])"
      ],
      "execution_count": 0,
      "outputs": [
        {
          "output_type": "stream",
          "text": [
            "a 1\n",
            "b 1\n",
            "n 1\n",
            "o 2\n",
            "r 2\n",
            "s 2\n",
            "t 1\n",
            "u 2\n"
          ],
          "name": "stdout"
        }
      ]
    },
    {
      "cell_type": "markdown",
      "metadata": {
        "id": "vb5Tn9GVZbQI",
        "colab_type": "text"
      },
      "source": [
        "# Sorting the Dictionaries\n",
        "\n",
        "- Even though sorting the dictionaries by values is not as direct and easy\n",
        "    - but essentially you still sort the the keys\n",
        "    - what you need to do is to _reversed_ dicts\n",
        "    - problem is that keys are _unique_, but values are not, so if you have duplicate _values_, it will raise a problem"
      ]
    },
    {
      "cell_type": "code",
      "metadata": {
        "id": "o7iK4maKZbQK",
        "colab_type": "code",
        "outputId": "0863771f-ac36-4392-feb2-3e4201cf7c7e",
        "colab": {
          "base_uri": "https://localhost:8080/",
          "height": 68
        }
      },
      "source": [
        "# reverse the `counts` dict\n",
        "rev_counts = {v:k for k,v in counts.items()}\n",
        "# get keys from the `rev_counts` dict\n",
        "# keep in mind that the keys are value in the original dict\n",
        "val_lst = list(rev_counts.keys())\n",
        "# sort the value list\n",
        "val_lst.sort()\n",
        "for val in val_lst:\n",
        "    # reason we print it out this way is that \n",
        "    # we need to reverse it back to the original (key, value) pairs\n",
        "    print(rev_counts[val], val)"
      ],
      "execution_count": 0,
      "outputs": [
        {
          "output_type": "stream",
          "text": [
            "chuck 1\n",
            "annie 42\n",
            "jan 100\n"
          ],
          "name": "stdout"
        }
      ]
    },
    {
      "cell_type": "markdown",
      "metadata": {
        "id": "jiqaYf19ZbQP",
        "colab_type": "text"
      },
      "source": [
        "# Dictionary Operations\n",
        "\n",
        "- Like other data types we have covered so far, dictionaries have certain operations\n",
        "    - keep in mind that dict items are __only__ accessible using __keys__\n",
        "    - dictionaries are mutable, means that you can _update_ values in dict items\n",
        "    - you can also use the `del` operator to delete an item from a dictionary"
      ]
    },
    {
      "cell_type": "code",
      "metadata": {
        "id": "vFwACZUnZbQR",
        "colab_type": "code",
        "outputId": "157a4dd5-13f8-4f84-e621-95d2b1e8a37c",
        "colab": {
          "base_uri": "https://localhost:8080/",
          "height": 34
        }
      },
      "source": [
        "inventory = {\"apples\": 430, \"bananas\": 312, \"oranges\": 525, \"pears\": 217}\n",
        "del inventory[\"pears\"]\n",
        "print(inventory)"
      ],
      "execution_count": 0,
      "outputs": [
        {
          "output_type": "stream",
          "text": [
            "{'apples': 430, 'bananas': 312, 'oranges': 525}\n"
          ],
          "name": "stdout"
        }
      ]
    },
    {
      "cell_type": "code",
      "metadata": {
        "id": "7gX_zrw-ZbQW",
        "colab_type": "code",
        "outputId": "13bc43fd-6bb9-404a-c0c5-3bf8fd28f04c",
        "colab": {
          "base_uri": "https://localhost:8080/",
          "height": 34
        }
      },
      "source": [
        "inventory[\"bananas\"] += 200\n",
        "print(inventory)"
      ],
      "execution_count": 0,
      "outputs": [
        {
          "output_type": "stream",
          "text": [
            "{'apples': 430, 'bananas': 512, 'oranges': 525}\n"
          ],
          "name": "stdout"
        }
      ]
    },
    {
      "cell_type": "markdown",
      "metadata": {
        "id": "CmWZOti7ZbQk",
        "colab_type": "text"
      },
      "source": [
        "# Aliasing and Copying\n",
        "\n",
        "- Since dicts are mutable, we need to be careful of _aliasing_\n",
        "    - keep in mind that aliasing is create a second name of the same object\n",
        "    - thus, change the alias will affect the change to the original dict\n",
        "    \n",
        "- If you want to change a version of the dict, without affecting the original:\n",
        "    - you need to create a copy of the dict\n",
        "    - since this is a different object, change the copy will _not_ change the original"
      ]
    },
    {
      "cell_type": "code",
      "metadata": {
        "id": "AhF1634XZbQm",
        "colab_type": "code",
        "colab": {}
      },
      "source": [
        "opposites = {\"up\": \"down\", \"right\": \"wrong\", \"yes\": \"no\"}\n",
        "alias_dict = opposites\n",
        "copy_dict = opposites.copy() "
      ],
      "execution_count": 0,
      "outputs": []
    },
    {
      "cell_type": "code",
      "metadata": {
        "id": "DckfzaUkZbQq",
        "colab_type": "code",
        "outputId": "859b0627-a9c2-4424-9a1a-bd8990a2663e",
        "colab": {
          "base_uri": "https://localhost:8080/",
          "height": 34
        }
      },
      "source": [
        "# this will change the dict value to 'left'\n",
        "alias_dict['right'] = 'left'\n",
        "opposites['right']"
      ],
      "execution_count": 0,
      "outputs": [
        {
          "output_type": "execute_result",
          "data": {
            "text/plain": [
              "'left'"
            ]
          },
          "metadata": {
            "tags": []
          },
          "execution_count": 25
        }
      ]
    },
    {
      "cell_type": "code",
      "metadata": {
        "id": "hAsVjivFZbQv",
        "colab_type": "code",
        "outputId": "c1606ed1-b339-4534-917d-dac858cc3329",
        "colab": {
          "base_uri": "https://localhost:8080/",
          "height": 34
        }
      },
      "source": [
        "# this will not change the dict value - it remains as 'left'\n",
        "copy_dict['right'] = 'privilege'\n",
        "opposites['right']"
      ],
      "execution_count": 0,
      "outputs": [
        {
          "output_type": "execute_result",
          "data": {
            "text/plain": [
              "'left'"
            ]
          },
          "metadata": {
            "tags": []
          },
          "execution_count": 26
        }
      ]
    },
    {
      "cell_type": "markdown",
      "metadata": {
        "id": "SxA2MBpzZbRF",
        "colab_type": "text"
      },
      "source": [
        "# Sparse Matrices\n",
        "\n",
        "- In data analytics, we often deal with sparse matrices\n",
        "    - Sparse matrices refer to the matrices with a lot of `0`s\n",
        "    - we can use a list of lists to represent the matrices\n",
        "    - but this is a waste of resources since `0`s usually contain less value\n",
        "    - the alternative is to use a dictionary for that\n",
        "    \n",
        "$$ \\begin{equation*}\n",
        "\\begin{vmatrix}\n",
        "\\ 0 & 0 & 0 & \\mathbf{1} & 0 \\\\\n",
        "\\ 0 & 0 & 0 & 0 & 0 \\\\\n",
        "\\ 0 & \\mathbf{2} & 0 & 1 & 0 \\\\\n",
        "\\ 0 & 0 & 0 & 0 & 0 \\\\\n",
        "\\ 0 & 0 & 0 & \\mathbf{3} & 0 \\\\\n",
        "\\end{vmatrix}\n",
        "\\end{equation*} $$"
      ]
    },
    {
      "cell_type": "code",
      "metadata": {
        "id": "NdwLZYjSZbRK",
        "colab_type": "code",
        "colab": {}
      },
      "source": [
        "# following list of lists represent above matrix\n",
        "\n",
        "matrix = [[0, 0, 0, 1, 0],\n",
        "          [0, 0, 0, 0, 0],\n",
        "          [0, 2, 0, 0, 0],\n",
        "          [0, 0, 0, 0, 0],\n",
        "          [0, 0, 0, 3, 0]]\n",
        "\n",
        "\n",
        "# same matrix can be represented using this dictionary\n",
        "matrix = {(0, 3): 1, (2, 1): 2, (4, 3): 3} # all zero values are ignored\n",
        "\n",
        "# comparing to the list method, the dict method only keeps three non-zero values\n",
        "# in the dict method, the keys are the positions (coordinates) of the non-zero values"
      ],
      "execution_count": 0,
      "outputs": []
    },
    {
      "cell_type": "code",
      "metadata": {
        "id": "mq6UcS7jZbRi",
        "colab_type": "code",
        "outputId": "2a0e1d43-f43f-44c3-94fc-82e7c82a5fd7",
        "colab": {
          "base_uri": "https://localhost:8080/",
          "height": 34
        }
      },
      "source": [
        "# retrieve non-zero values are easy\n",
        "matrix[(0, 3)]"
      ],
      "execution_count": 0,
      "outputs": [
        {
          "output_type": "execute_result",
          "data": {
            "text/plain": [
              "1"
            ]
          },
          "metadata": {
            "tags": []
          },
          "execution_count": 28
        }
      ]
    },
    {
      "cell_type": "code",
      "metadata": {
        "id": "0djnwLFyZbRn",
        "colab_type": "code",
        "outputId": "5fd0fb86-b9ce-4bf4-a98c-baf02517fdcb",
        "colab": {
          "base_uri": "https://localhost:8080/",
          "height": 164
        }
      },
      "source": [
        "# retrieve a zero value will be tricky\n",
        "# we get the KeyError since there is no such key in the dict\n",
        "matrix[(1, 3)]"
      ],
      "execution_count": 0,
      "outputs": [
        {
          "output_type": "error",
          "ename": "KeyError",
          "evalue": "ignored",
          "traceback": [
            "\u001b[0;31m---------------------------------------------------------------------------\u001b[0m",
            "\u001b[0;31mKeyError\u001b[0m                                  Traceback (most recent call last)",
            "\u001b[0;32m<ipython-input-29-1982cd43c999>\u001b[0m in \u001b[0;36m<module>\u001b[0;34m()\u001b[0m\n\u001b[0;32m----> 1\u001b[0;31m \u001b[0mmatrix\u001b[0m\u001b[0;34m[\u001b[0m\u001b[0;34m(\u001b[0m\u001b[0;36m1\u001b[0m\u001b[0;34m,\u001b[0m \u001b[0;36m3\u001b[0m\u001b[0;34m)\u001b[0m\u001b[0;34m]\u001b[0m\u001b[0;34m\u001b[0m\u001b[0;34m\u001b[0m\u001b[0m\n\u001b[0m",
            "\u001b[0;31mKeyError\u001b[0m: (1, 3)"
          ]
        }
      ]
    },
    {
      "cell_type": "code",
      "metadata": {
        "id": "cpGOwcBpZbRv",
        "colab_type": "code",
        "outputId": "d45f7869-93fd-41a2-8dcf-687a4a6dba85",
        "colab": {
          "base_uri": "https://localhost:8080/",
          "height": 34
        }
      },
      "source": [
        "# we can always use the `.get()` method for that purpose\n",
        "# the first argument is the key\n",
        "# the second argument is the value should return \n",
        "# if the key is not in the dict\n",
        "matrix.get((1, 3), 0)"
      ],
      "execution_count": 0,
      "outputs": [
        {
          "output_type": "execute_result",
          "data": {
            "text/plain": [
              "0"
            ]
          },
          "metadata": {
            "tags": []
          },
          "execution_count": 30
        }
      ]
    },
    {
      "cell_type": "markdown",
      "metadata": {
        "id": "ElyYUwjeZbRz",
        "colab_type": "text"
      },
      "source": [
        "# Creating Dictionaries from Lists\n",
        "\n",
        "- Since dict keys and values are collections, we can create dicts from two lists:\n",
        "    - you will use the `zip()` built-in function\n",
        "        - note that `zip()` takes two arguments for both lists\n",
        "        - the first list will be the key, the second list will be the values\n",
        "        - you need to make sure that the first list does not contain __duplicate__ values"
      ]
    },
    {
      "cell_type": "code",
      "metadata": {
        "id": "0LOxhWM6ZbR1",
        "colab_type": "code",
        "outputId": "3328f6db-1d47-4498-fd2b-a329ca763824",
        "colab": {
          "base_uri": "https://localhost:8080/",
          "height": 34
        }
      },
      "source": [
        "# values\n",
        "lst1 = [1, 2, 3]\n",
        "# keys\n",
        "lst2 = ['a', 'b', 'c']\n",
        "my_dict = dict(zip(lst2, lst1))\n",
        "my_dict"
      ],
      "execution_count": 0,
      "outputs": [
        {
          "output_type": "execute_result",
          "data": {
            "text/plain": [
              "{'a': 1, 'b': 2, 'c': 3}"
            ]
          },
          "metadata": {
            "tags": []
          },
          "execution_count": 31
        }
      ]
    },
    {
      "cell_type": "markdown",
      "metadata": {
        "id": "aIpCjsNBZbR4",
        "colab_type": "text"
      },
      "source": [
        "# Your Turn Here\n",
        "Finish exercises below by following instructions of each of them. \n",
        "\n",
        "Make sure you provide proper __pseudo code__ for each of your program."
      ]
    },
    {
      "cell_type": "markdown",
      "metadata": {
        "id": "rwGOClDMZbR6",
        "colab_type": "text"
      },
      "source": [
        "## Q1. Coding Problem\n",
        "\n",
        "Write a function to calculate the product sales.\n",
        "\n",
        "Example inputs and output:\n",
        "```python\n",
        "price_dict = {'A': 100, 'B': 200, 'C': 300}\n",
        "unit_dict = {'A': 1, 'B': 0, 'C': 5}\n",
        "-> sales_dict = {'A': 100, 'B': 0, 'C': 1500}\n",
        "```"
      ]
    },
    {
      "cell_type": "code",
      "metadata": {
        "id": "9loQ09A5ZbR9",
        "colab_type": "code",
        "colab": {}
      },
      "source": [
        ""
      ],
      "execution_count": 0,
      "outputs": []
    },
    {
      "cell_type": "markdown",
      "metadata": {
        "id": "KewBV6N1ZbSC",
        "colab_type": "text"
      },
      "source": [
        "## Q2. Coding Problem\n",
        "\n",
        "In cryptography, a *Caesar* cipher is a very simple encryption techniques in which each letter in the plain text is replaced by a letter some fixed number of positions down the alphabet. \n",
        "\n",
        "For example, with a shift of **3**:\n",
        "- A would be replaced by D, \n",
        "- B would become E, and so on. \n",
        "\n",
        "The method is named after Julius Caesar, who used it to communicate with his generals. \n",
        "\n",
        "**ROT-13** (\"rotate by 13 places\") is a widely used example of a Caesar cipher where the shift is _13_. In Python, the key for ROT-13 may be represented by means of the following dictionary:\n",
        "\n",
        "```\n",
        "key = {'a':'n', 'b':'o', 'c':'p', 'd':'q', 'e':'r', 'f':'s', 'g':'t', 'h':'u', \n",
        "       'i':'v', 'j':'w', 'k':'x', 'l':'y', 'm':'z', 'n':'a', 'o':'b', 'p':'c', \n",
        "       'q':'d', 'r':'e', 's':'f', 't':'g', 'u':'h', 'v':'i', 'w':'j', 'x':'k',\n",
        "       'y':'l', 'z':'m', 'A':'N', 'B':'O', 'C':'P', 'D':'Q', 'E':'R', 'F':'S', \n",
        "       'G':'T', 'H':'U', 'I':'V', 'J':'W', 'K':'X', 'L':'Y', 'M':'Z', 'N':'A', \n",
        "       'O':'B', 'P':'C', 'Q':'D', 'R':'E', 'S':'F', 'T':'G', 'U':'H', 'V':'I', \n",
        "       'W':'J', 'X':'K', 'Y':'L', 'Z':'M'}\n",
        "```\n",
        "\n",
        "Your task in this exercise is to implement an encoder/decoder of ROT-13. Once you're done, you will be able to \n",
        "\n",
        "1. Encode the following message: BRAVO! I have created a secret ROT decipher in June 2018!\n",
        "    \n",
        "2. Decode the following secret message: V nqzver lbh, TERNG CLGUBA Znfgre!!! Ubj qvq lbh ohvyq guvf qrpbqre?"
      ]
    },
    {
      "cell_type": "code",
      "metadata": {
        "id": "hVg4UbEUZbSD",
        "colab_type": "code",
        "colab": {}
      },
      "source": [
        ""
      ],
      "execution_count": 0,
      "outputs": []
    },
    {
      "cell_type": "markdown",
      "metadata": {
        "id": "P2JP9s3NZbSI",
        "colab_type": "text"
      },
      "source": [
        "![DSB Logo](https://github.com/ypff/starter-code-example/blob/master/img/Dolan.jpg?raw=1)\n",
        "# Python Data Types: Dictionaries\n",
        "## PY4E Chapter 9\n",
        "### How data are stored and processed in Python"
      ]
    }
  ]
}